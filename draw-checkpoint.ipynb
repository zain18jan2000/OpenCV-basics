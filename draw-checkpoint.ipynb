{
 "cells": [
  {
   "cell_type": "code",
   "execution_count": 1,
   "metadata": {},
   "outputs": [],
   "source": [
    "import cv2\n",
    "import numpy as  np\n",
    "\n",
    "# let's diplay a blank black image\n",
    "black = np.zeros((500,500,3), dtype  = 'uint8') # create an array (image) of 500,500,3 where 3 is channel(BGR)\n",
    "cv2.imshow('BLACK  IMAGE',black) # title of window ,matrix\n",
    "cv2.waitKey(0)\n",
    "cv2.destroyAllWindows()"
   ]
  },
  {
   "cell_type": "code",
   "execution_count": null,
   "metadata": {},
   "outputs": [],
   "source": [
    "# now let's create a blank red image\n",
    "\n",
    "red = np.zeros((500,500,3),dtype = 'uint8')\n",
    "red[:] = [0,0,255] # changing each BGR black[0,0,0] pixel to red[0,0,255] \n",
    "cv2.imshow('RED IMAGE',red)\n",
    "cv2.waitKey(0)\n",
    "cv2.destroyAllWindows()"
   ]
  },
  {
   "cell_type": "code",
   "execution_count": null,
   "metadata": {},
   "outputs": [],
   "source": [
    "# a blank green colorod image\n",
    "green = np.zeros((500,500,3), dtype = 'uint8')\n",
    "green[:] = [0,255,0]    # changing each BGR black[0,0,0] pixel to green[0,255,0]\n",
    "cv2.imshow('GREEN IMAGE',green)    \n",
    "cv2.waitKey(0)\n",
    "cv2.destroyAllWindows()"
   ]
  },
  {
   "cell_type": "code",
   "execution_count": null,
   "metadata": {},
   "outputs": [],
   "source": [
    "# white colored image\n",
    "white = np.zeros((500,500,3), dtype = 'uint8')\n",
    "white[:] = [255,255,255]\n",
    "cv2.imshow('WHITE IMAGE',white)\n",
    "cv2.waitKey(0)\n",
    "cv2.destroyAllWindows()"
   ]
  },
  {
   "cell_type": "code",
   "execution_count": 9,
   "metadata": {},
   "outputs": [],
   "source": [
    "# half blue half green\n",
    "bg = np.zeros((500,500,3), dtype = 'uint8')\n",
    "bg[:,0:251] = [0,255,0] # set each pixel in all the rows and in 0-250 columns to green  \n",
    "bg[:,251:] = [255,0,0]\n",
    "cv2.imshow('clor IMAGE',bg)\n",
    "cv2.waitKey(0)\n",
    "cv2.destroyAllWindows()"
   ]
  },
  {
   "cell_type": "code",
   "execution_count": 46,
   "metadata": {},
   "outputs": [],
   "source": [
    "# Now we will draw a rectangle, straight line and a circle in blank image\n",
    "\n",
    "blank = np.zeros((500,500,3), dtype = 'uint8')\n",
    "\n",
    "# cv2.rectangle(frame/array ,(x1,y1),(x2,y2),(B,G,R),thickness = any integer )\n",
    "cv2.rectangle(blank,(10,10),(200,200),(0,100,250),thickness = 5) # set thickness to a -ve number to fill it with color \n",
    "\n",
    "# cv2.rectangle(frame/array ,centre,radius,(B,G,R),thickness = any integer )\n",
    "cv2.circle(blank,(300,300),100,(100,0,100),thickness  = -1)\n",
    "\n",
    "# cv2.line((frame/array,(x1,y1),(x2,y2),(B,G,R),thickness = any integer )\n",
    "cv2.line(blank,(450,0),(450,500),(100,150,200),thickness = 2)\n",
    "\n",
    "cv2.imshow('image',blank)\n",
    "cv2.waitKey(0)\n",
    "cv2.destroyAllWindows()"
   ]
  },
  {
   "cell_type": "code",
   "execution_count": 74,
   "metadata": {},
   "outputs": [],
   "source": [
    "# write text in an image\n",
    "blank = np.zeros((500,500,3), dtype = 'uint8')\n",
    "\n",
    "# cv2.putText( array,'text',(starting point),font,font scale,(B,G,R),thickness =)\n",
    "cv2.putText(blank,\"Hello my name is Zain\",(50,200),cv2.FONT_HERSHEY_TRIPLEX,1,(255,255,255),thickness = 2)\n",
    "cv2.imshow('Text',blank)\n",
    "cv2.waitKey(0)\n",
    "cv2.destroyAllWindows()"
   ]
  },
  {
   "cell_type": "code",
   "execution_count": null,
   "metadata": {},
   "outputs": [],
   "source": []
  }
 ],
 "metadata": {
  "kernelspec": {
   "display_name": "Python 3",
   "language": "python",
   "name": "python3"
  },
  "language_info": {
   "codemirror_mode": {
    "name": "ipython",
    "version": 3
   },
   "file_extension": ".py",
   "mimetype": "text/x-python",
   "name": "python",
   "nbconvert_exporter": "python",
   "pygments_lexer": "ipython3",
   "version": "3.8.5"
  }
 },
 "nbformat": 4,
 "nbformat_minor": 4
}
