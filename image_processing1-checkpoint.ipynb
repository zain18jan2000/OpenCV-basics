{
 "cells": [
  {
   "cell_type": "code",
   "execution_count": 31,
   "metadata": {},
   "outputs": [],
   "source": [
    "import cv2\n",
    "import numpy as np"
   ]
  },
  {
   "cell_type": "code",
   "execution_count": 24,
   "metadata": {},
   "outputs": [],
   "source": [
    "img = cv2.imread('horse.jpg')\n",
    "\n",
    "# resizing \n",
    "# cv2.resize(input image,dimensions)\n",
    "img = cv2.resize(img,(500,500)) \n",
    "# convert an image from BGR to GRAY SCALE\n",
    "gray = cv2.cvtColor(img,cv2.COLOR_BGR2GRAY) \n",
    "cv2.imshow('CAT',gray)\n",
    "cv2.waitKey(0)\n",
    "cv2.destroyAllWindows()"
   ]
  },
  {
   "cell_type": "code",
   "execution_count": 27,
   "metadata": {},
   "outputs": [],
   "source": [
    "# blur  the image\n",
    "# cv2.GaussianBlur(image,kernal size,0)\n",
    "image = cv2.GaussianBlur(gray,(7,7),0)\n",
    "#\n",
    "\n",
    "# average blurring\n",
    "image1 = cv2.blur(gray,(7,7))\n",
    "\n",
    "# average blurring\n",
    "image2 = cv2.medianBlur(gray,7)\n",
    "\n",
    "cv2.imshow('gaussian  blur',image)\n",
    "cv2.imshow('average blur',image1)\n",
    "cv2.imshow('median blur',image2)\n",
    "\n",
    "cv2.waitKey(0)\n",
    "cv2.destroyAllWindows()"
   ]
  },
  {
   "cell_type": "code",
   "execution_count": 18,
   "metadata": {},
   "outputs": [],
   "source": [
    "# edge detection\n",
    "edge = cv2.Canny(image,120,30) # 120 and 30 are randomly chosen threshold values\n",
    "cv2.imshow('Edges',edge)\n",
    "cv2.waitKey(0)\n",
    "cv2.destroyAllWindows()"
   ]
  },
  {
   "cell_type": "code",
   "execution_count": 26,
   "metadata": {},
   "outputs": [],
   "source": [
    "# dilate an image it will thickened the edges\n",
    "dilate = cv2.dilate(edge,(7,7),iterations = 4)\n",
    "cv2.imshow('DILATED IMAGE',dilate)\n",
    "cv2.waitKey(0)\n",
    "cv2.destroyAllWindows()"
   ]
  },
  {
   "cell_type": "code",
   "execution_count": 3,
   "metadata": {},
   "outputs": [],
   "source": [
    "# crop the image and saving  it\n",
    "crop = img[100:500,50:600]\n",
    "cv2.imshow('cropped image',crop)\n",
    "cv2.imwrite('cropped cat.jpg',crop)\n",
    "\n",
    "cv2.waitKey(0)\n",
    "cv2.destroyAllWindows()"
   ]
  },
  {
   "cell_type": "code",
   "execution_count": 29,
   "metadata": {},
   "outputs": [],
   "source": [
    "# translating an image\n",
    "\n",
    "# in translate function x and y are pixels by which image has to be shifted from its position\n",
    "def translate(img,x,y):\n",
    "    trans_mat = np.float32([[1,0,x],[0,1,y]]) # translation matrix\n",
    "    dim = (img.shape[0],img.shape[1])\n",
    "    \n",
    "    # in case of translation only,warpAffine requires following arguments\n",
    "    # cv2.warpAffine( image , translation matrix , dimensions of image with out channel )\n",
    "    return cv2.warpAffine(img,trans_mat,dim) \n",
    "\n",
    "# -x --> shift left\n",
    "# -y --> shift image up\n",
    "# x --> shift image right\n",
    "# y --> shift image down\n",
    "translated = translate(img,100,-100)\n",
    "cv2.imshow('Translated image',translated)\n",
    "cv2.waitKey(0)\n",
    "cv2.destroyAllWindows()"
   ]
  },
  {
   "cell_type": "code",
   "execution_count": 6,
   "metadata": {},
   "outputs": [],
   "source": [
    "# rotate an image\n",
    "\n",
    "def rotate(img,angle):\n",
    "    dim = (img.shape[0],img.shape[1])\n",
    "    rotation_point = (dim[0]//2,dim[1]//2) # centre of image is the rotation point\n",
    "    rot_mat = cv2.getRotationMatrix2D(rotation_point,angle,1)\n",
    "    \n",
    "    # in case of rotation only,\n",
    "    # cv2.warpAffine(image, rotation matrix, dimension)\n",
    "    return cv2.warpAffine(img,rot_mat,dim)\n",
    "\n",
    "# -ve angle --> clockwise rotation\n",
    "# +ve angle --> anti-clockwise rotation\n",
    "rotate = rotate(img,-40)\n",
    "cv2.imshow('Rotated Image',rotate)\n",
    "cv2.waitKey(0)\n",
    "cv2.destroyAllWindows()"
   ]
  },
  {
   "cell_type": "code",
   "execution_count": 36,
   "metadata": {},
   "outputs": [],
   "source": [
    "# flipp the image\n",
    "\n",
    "# cv2.flip(image,0/1/-1)\n",
    "# 0 --> flip vertically \n",
    "# 1 --> flip horzontally\n",
    "# -1 --> flip vertically\n",
    "flip_img = cv2.flip(img,1) \n",
    "cv2.imshow('Flipped Image',flip_img)\n",
    "cv2.waitKey(0)\n",
    "cv2.destroyAllWindows()"
   ]
  },
  {
   "cell_type": "code",
   "execution_count": 33,
   "metadata": {},
   "outputs": [],
   "source": [
    "# color splitting\n",
    "img = cv2.imread('horse.jpg')\n",
    "img = cv2.resize(img,(300,250))\n",
    "\n",
    "# cv2.split() is used to acessed each channel (i.e blue green and red) invidually\n",
    "b,g,r = cv2.split(img)\n",
    "# cv2.merge is used to merged all the tree color channels of an image\n",
    "rgb = cv2.merge([r,g,b])\n",
    "cv2.imshow('RGB',rgb)\n",
    "cv2.imshow('Horse',img)\n",
    "cv2.imshow('Blue',b)\n",
    "cv2.imshow('Green',g)\n",
    "cv2.imshow('RED',r)\n",
    "cv2.waitKey(0)\n",
    "cv2.destroyAllWindows()"
   ]
  },
  {
   "cell_type": "code",
   "execution_count": 34,
   "metadata": {},
   "outputs": [],
   "source": [
    "# second method to visualize each channel contribution\n",
    "\n",
    "black = np.zeros(img.shape[:2], dtype=\"uint8\") #  blank black image\n",
    "blue =  cv2.merge([b,black,black]) # for visualizing blue channel\n",
    "green = cv2.merge([black,g,black]) #  for visualizing green channel\n",
    "red = cv2.merge([black,black,r])  # for visualizing red channel\n",
    "blue_green = cv2.merge([b,g,black]) \n",
    "red_green = cv2.merge([black,g,r]) \n",
    "red_blue = cv2.merge([b,black,r]) \n",
    "cv2.imshow('BLUE AND GREEN',blue_green)\n",
    "cv2.imshow('RED AND GREEN',red_green)\n",
    "cv2.imshow('RED AND BLUE',red_blue)\n",
    "cv2.imshow('Blue',blue)\n",
    "cv2.imshow('Red',red)\n",
    "cv2.imshow('Green',green)\n",
    "cv2.waitKey(0)\n",
    "cv2.destroyAllWindows()"
   ]
  }
 ],
 "metadata": {
  "kernelspec": {
   "display_name": "Python 3",
   "language": "python",
   "name": "python3"
  },
  "language_info": {
   "codemirror_mode": {
    "name": "ipython",
    "version": 3
   },
   "file_extension": ".py",
   "mimetype": "text/x-python",
   "name": "python",
   "nbconvert_exporter": "python",
   "pygments_lexer": "ipython3",
   "version": "3.8.5"
  }
 },
 "nbformat": 4,
 "nbformat_minor": 4
}
