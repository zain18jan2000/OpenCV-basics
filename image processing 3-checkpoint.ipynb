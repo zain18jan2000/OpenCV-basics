{
 "cells": [
  {
   "cell_type": "code",
   "execution_count": 1,
   "metadata": {},
   "outputs": [],
   "source": [
    "import cv2"
   ]
  },
  {
   "cell_type": "code",
   "execution_count": 7,
   "metadata": {},
   "outputs": [],
   "source": [
    "image = cv2.imread('horse.jpg')\n",
    "image = cv2.resize(image,(500,500))\n",
    "cv2.imshow('Horse',image)\n",
    "cv2.waitKey(0)\n",
    "cv2.destroyAllWindows()"
   ]
  },
  {
   "cell_type": "code",
   "execution_count": 32,
   "metadata": {},
   "outputs": [],
   "source": [
    "# simple thresholding i.e binarizing an image\n",
    "\n",
    "# BGR to gray scale\n",
    "gray = cv2.cvtColor(image,cv2.COLOR_BGR2GRAY) \n",
    "\n",
    "# cv2.threshold(image,threshold value,max value,threshold type)\n",
    "# set each pixel to 255 if its value is greater than threshold value\n",
    "# otherwise set it to zero \n",
    "threshold, thresh = cv2.threshold(gray.copy(),170,255,cv2.THRESH_BINARY)\n",
    "\n",
    "# thresholding with different thresholding type\n",
    "threshold, thresh_inv = cv2.threshold(gray.copy(),170,255,cv2.THRESH_BINARY_INV)\n",
    "\n",
    "# now display this binarizing image\n",
    "cv2.imshow(\"Thresholded Image\",thresh)\n",
    "cv2.imshow(\"INV_Thresholded Image\",thresh_inv)\n",
    "cv2.waitKey(0)\n",
    "cv2.destroyAllWindows()"
   ]
  },
  {
   "cell_type": "code",
   "execution_count": 34,
   "metadata": {},
   "outputs": [],
   "source": [
    "# adaptive thresholdin ,used when light intensity is not uniform for an image\n",
    "# here we let computer to decide threshold value (T)\n",
    "# cv2.adaptiveThreshold(image,max val, method for calculating T, threshold type,\n",
    "#                        block size, c(constant val))\n",
    "# 2 methods for calculating T --> 1)cv2.ADAPTIVE_THRESH_MEAN_C \n",
    "#                                2) cv2.ADAPTIVE_THRESH_GAUSSIAN_C\n",
    "adap_thresh = cv2.adaptiveThreshold(gray.copy(),255,cv2.ADAPTIVE_THRESH_MEAN_C,cv2.THRESH_BINARY,11,5)\n",
    "\n",
    "cv2.imshow(\"ADAPTIVE THRESHOLDINNG\",adap_thresh)\n",
    "cv2.waitKey(0)\n",
    "cv2.destroyAllWindows()"
   ]
  },
  {
   "cell_type": "code",
   "execution_count": null,
   "metadata": {},
   "outputs": [],
   "source": []
  }
 ],
 "metadata": {
  "kernelspec": {
   "display_name": "Python 3",
   "language": "python",
   "name": "python3"
  },
  "language_info": {
   "codemirror_mode": {
    "name": "ipython",
    "version": 3
   },
   "file_extension": ".py",
   "mimetype": "text/x-python",
   "name": "python",
   "nbconvert_exporter": "python",
   "pygments_lexer": "ipython3",
   "version": "3.8.5"
  }
 },
 "nbformat": 4,
 "nbformat_minor": 4
}
