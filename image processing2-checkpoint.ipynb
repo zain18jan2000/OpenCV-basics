{
 "cells": [
  {
   "cell_type": "code",
   "execution_count": 34,
   "metadata": {},
   "outputs": [],
   "source": [
    "import cv2\n",
    "import numpy as np"
   ]
  },
  {
   "cell_type": "code",
   "execution_count": 44,
   "metadata": {},
   "outputs": [],
   "source": [
    "# We'll perform bitwise operation\n",
    "# for that we'll create a bank image\n",
    "img = np.zeros((500,500),dtype = 'uint8')\n",
    "\n",
    "# draw a circle in it\n",
    "circle = cv2.circle(img.copy(),(250,250),200,255,-1)\n",
    "# draw rectangle in it\n",
    "rectangle = cv2.rectangle(img.copy(),(70,70),(430,430),255,-1)\n",
    "\n",
    "# displaying the  images\n",
    "cv2.imshow('circle',circle)\n",
    "cv2.imshow('rectangle',rectangle)\n",
    "cv2.waitKey(0)\n",
    "cv2.destroyAllWindows()"
   ]
  },
  {
   "cell_type": "code",
   "execution_count": 45,
   "metadata": {},
   "outputs": [],
   "source": [
    "# bitwise and operation\n",
    "bitwise_and = cv2.bitwise_and(circle,rectangle)\n",
    "cv2.imshow('BITWISE AND',bitwise_and)\n",
    "cv2.waitKey(0)\n",
    "cv2.destroyAllWindows()"
   ]
  },
  {
   "cell_type": "code",
   "execution_count": 46,
   "metadata": {},
   "outputs": [],
   "source": [
    "# bitwise or operation\n",
    "bitwise_or = cv2.bitwise_or(circle,rectangle)\n",
    "cv2.imshow('BITWISE AND',bitwise_or)\n",
    "cv2.waitKey(0)\n",
    "cv2.destroyAllWindows()"
   ]
  },
  {
   "cell_type": "code",
   "execution_count": 47,
   "metadata": {},
   "outputs": [],
   "source": [
    "# bitwise xor operation\n",
    "bitwise_xor = cv2.bitwise_xor(circle,rectangle)\n",
    "cv2.imshow('BITWISE XOR',bitwise_xor)\n",
    "cv2.waitKey(0)\n",
    "cv2.destroyAllWindows()"
   ]
  },
  {
   "cell_type": "code",
   "execution_count": 49,
   "metadata": {},
   "outputs": [],
   "source": [
    "# bitwise not operation on circle image\n",
    "bitwise_not_cir = cv2.bitwise_not(circle)\n",
    "\n",
    "# bitwise not operation on rectangle image\n",
    "bitwise_not_rect = cv2.bitwise_not(rectangle)\n",
    "\n",
    "cv2.imshow('BITWISE NOT ON CIRCLE',bitwise_not_cir)\n",
    "cv2.imshow('BITWISE NOT ON RECTANGLE',bitwise_not_rect)\n",
    "\n",
    "cv2.waitKey(0)\n",
    "cv2.destroyAllWindows()"
   ]
  },
  {
   "cell_type": "code",
   "execution_count": 79,
   "metadata": {},
   "outputs": [],
   "source": [
    "# applying mask to an image \n",
    "image = cv2.imread('horse.jpg')\n",
    "image = cv2.resize(image,(500,500))\n",
    "\n",
    "cir = cv2.circle(img.copy(),(220,120),120,255,-1)\n",
    "\n",
    "mask  =  cv2.bitwise_and(image,image, mask = cir)\n",
    "cv2.imshow('image',mask)\n",
    "cv2.waitKey(0)\n",
    "cv2.destroyAllWindows()"
   ]
  },
  {
   "cell_type": "code",
   "execution_count": 80,
   "metadata": {},
   "outputs": [],
   "source": [
    "# applying mask to an image with rectangle \n",
    "image = cv2.imread('horse.jpg')\n",
    "image = cv2.resize(image,(500,500))\n",
    "\n",
    "rect = cv2.rectangle(img.copy(),(70,10),(300,210),255,-1)\n",
    "\n",
    "mask  =  cv2.bitwise_and(image,image, mask = rect)\n",
    "cv2.imshow('image',mask)\n",
    "cv2.waitKey(0)\n",
    "cv2.destroyAllWindows()"
   ]
  },
  {
   "cell_type": "code",
   "execution_count": null,
   "metadata": {},
   "outputs": [],
   "source": []
  }
 ],
 "metadata": {
  "kernelspec": {
   "display_name": "Python 3",
   "language": "python",
   "name": "python3"
  },
  "language_info": {
   "codemirror_mode": {
    "name": "ipython",
    "version": 3
   },
   "file_extension": ".py",
   "mimetype": "text/x-python",
   "name": "python",
   "nbconvert_exporter": "python",
   "pygments_lexer": "ipython3",
   "version": "3.8.5"
  }
 },
 "nbformat": 4,
 "nbformat_minor": 4
}
